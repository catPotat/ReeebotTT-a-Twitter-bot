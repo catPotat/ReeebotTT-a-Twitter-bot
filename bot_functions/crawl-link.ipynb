{
 "cells": [
  {
   "cell_type": "markdown",
   "metadata": {},
   "source": [
    "## Imports"
   ]
  },
  {
   "cell_type": "code",
   "execution_count": null,
   "metadata": {},
   "outputs": [],
   "source": [
    "import tweepy\n",
    "from tqdm.notebook import tqdm\n",
    "from IPython.core.display import display, HTML\n",
    "import re\n"
   ]
  },
  {
   "cell_type": "markdown",
   "metadata": {},
   "source": [
    "## tweepy client"
   ]
  },
  {
   "cell_type": "code",
   "execution_count": null,
   "metadata": {},
   "outputs": [],
   "source": [
    "API_KEY = os.getenv('TWITTER_BOT_KEY')\n",
    "API_SECRET_KEY = os.getenv('TWITTER_BOT_SECRET_KEY')\n",
    "\n",
    "ACCESS_TOKEN = os.getenv('rbgtx_ACCESS_TOKEN')\n",
    "ACCESS_TOKEN_SECRET = os.getenv('rbgtx_ACCESS_TOKEN_SECRET')\n",
    "\n",
    "\n",
    "auth = tweepy.OAuthHandler(API_KEY, API_SECRET_KEY)\n",
    "auth.set_access_token(ACCESS_TOKEN, ACCESS_TOKEN_SECRET)\n",
    "api = tweepy.API(auth, wait_on_rate_limit=True, wait_on_rate_limit_notify=True)\n",
    "try:\n",
    "    api.verify_credentials()\n",
    "except:\n",
    "    raise Exception(\"Authentication not OK\")\n",
    "\n",
    "me = api.me()\n",
    "me.screen_name"
   ]
  },
  {
   "cell_type": "code",
   "execution_count": null,
   "metadata": {},
   "outputs": [],
   "source": [
    "DISCORD_INVITE = r'discord(?:\\.com|app\\.com|\\.gg)[\\/invite\\/]?(?:[a-zA-Z0-9\\-]{2,32})'\n",
    "\n",
    "def get_invites(message):\n",
    "    regex = re.compile(DISCORD_INVITE)\n",
    "    invites = regex.findall(message)\n",
    "    return invites"
   ]
  },
  {
   "cell_type": "code",
   "execution_count": null,
   "metadata": {},
   "outputs": [],
   "source": [
    "def get_links(message):\n",
    "    regex = re.compile(r'http')\n",
    "    invites = regex.findall(message)\n",
    "    return invites"
   ]
  },
  {
   "cell_type": "code",
   "execution_count": null,
   "metadata": {},
   "outputs": [],
   "source": [
    "for flr in tqdm( tweepy.Cursor(api.followers, 'Lreeeon').items(600) ):\n",
    "    if flr.followers_count < 500:\n",
    "        continue\n",
    "    if re.search('http', flr.description):\n",
    "        print(flr.description)\n",
    "    # for tweet in tweepy.Cursor(api.user_timeline, id=flr.screen_name).items(59):\n",
    "    #     if re.search('http', tweet.text): \n",
    "    #         print(tweet.text)\n",
    "    print(f'https://twitter.com/{flr.screen_name}')\n",
    "    print(f'{flr.followers_count}')\n",
    "    print('-----------')"
   ]
  },
  {
   "cell_type": "code",
   "execution_count": null,
   "metadata": {},
   "outputs": [],
   "source": [
    "seen = []\n",
    "for liked_twt in tqdm( tweepy.Cursor(api.favorites, ' ').items(9999) ):\n",
    "    user = liked_twt.user\n",
    "    if user.id in seen:\n",
    "        continue\n",
    "    seen.append(user.id)\n",
    "# for user in tqdm( tweepy.Cursor(api.friends, \" \").items(999) ):\n",
    "    has_invite = None\n",
    "    if get_link(str(user.description)).__len__() > 0 :\n",
    "        has_invite = True\n",
    "    if get_invites(str(user.url)).__len__() > 0 :\n",
    "        has_invite = True\n",
    "    if get_invites(str(user.location)).__len__() > 0 :\n",
    "        has_invite = True\n",
    "    if user.has_extended_profile:\n",
    "        pass\n",
    "        # if get_invites(user.description).__len__() > 0 :\n",
    "        #     has_invite = True\n",
    "    if user.followers_count < 500:\n",
    "        continue\n",
    "    \n",
    "    if has_invite:\n",
    "        display(HTML(f'''\n",
    "            -------------------------------------------------\n",
    "            <br>\n",
    "            <a href='https://twitter.com/{user.screen_name}'>\n",
    "                <img src={user.profile_image_url}> {user.name}\n",
    "            </a>\n",
    "            <p>\n",
    "                <a href='https://google.com/'></a>\n",
    "            </p>\n",
    "        '''))    "
   ]
  },
  {
   "cell_type": "code",
   "execution_count": null,
   "metadata": {},
   "outputs": [],
   "source": [
    "user.description"
   ]
  }
 ],
 "metadata": {
  "interpreter": {
   "hash": "554e2132b4c975e86b6827bf2d79548e73b3be1db56871b588250d764e07a1e3"
  },
  "kernelspec": {
   "display_name": "Python 3.9.6 64-bit ('venv': venv)",
   "name": "python3"
  },
  "language_info": {
   "codemirror_mode": {
    "name": "ipython",
    "version": 3
   },
   "file_extension": ".py",
   "mimetype": "text/x-python",
   "name": "python",
   "nbconvert_exporter": "python",
   "pygments_lexer": "ipython3",
   "version": "3.9.6"
  },
  "metadata": {
   "interpreter": {
    "hash": "554e2132b4c975e86b6827bf2d79548e73b3be1db56871b588250d764e07a1e3"
   }
  },
  "orig_nbformat": 2
 },
 "nbformat": 4,
 "nbformat_minor": 2
}
